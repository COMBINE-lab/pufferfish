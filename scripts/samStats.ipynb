{
 "cells": [
  {
   "cell_type": "code",
   "execution_count": 31,
   "metadata": {
    "collapsed": true
   },
   "outputs": [],
   "source": [
    "from collections import defaultdict\n",
    "from multiprocessing import Pool, TimeoutError"
   ]
  },
  {
   "cell_type": "code",
   "execution_count": 24,
   "metadata": {},
   "outputs": [],
   "source": [
    "def gatherStats(file):    \n",
    "    infoMap = defaultdict()\n",
    "    with open(file, 'r') as f:\n",
    "        while (f.readline()[0] == '@'):\n",
    "            continue\n",
    "        for l in f:\n",
    "            cols = l.split('\\t')\n",
    "            readParts = cols[0].split(';')\n",
    "            rid = readParts[0].split('/')[0].split('read')[1]\n",
    "            tid = readParts[0].split('/')[1]\n",
    "            mate1pos = readParts[1].split(':')[1].split('-')[0]\n",
    "            mate2pos = readParts[2].split(':')[1].split('-')[0]\n",
    "\n",
    "            aligned_tid = cols[3]\n",
    "            isPrimary1 = (cols[1] == '99')\n",
    "            isPrimary2 = (cols[1] == '147')\n",
    "            aligned_rpos = cols[3]\n",
    "            isExact = (mate1pos == aligned_rpos or mate2pos == str(int(aligned_rpos)+1))\n",
    "            if rid not in infoMap:\n",
    "                infoMap[rid] = [0,0,0,0]\n",
    "            infoMap[rid][0]+=1\n",
    "            if (isPrimary1):\n",
    "                infoMap[rid][1]+=1\n",
    "            elif (isPrimary2):\n",
    "                infoMap[rid][2]+=1\n",
    "            if isExact:\n",
    "                infoMap[rid][3]+=1\n",
    "    return infoMap"
   ]
  },
  {
   "cell_type": "code",
   "execution_count": 34,
   "metadata": {
    "collapsed": true
   },
   "outputs": [],
   "source": [
    "def calcLineStat(lines):\n",
    "    \"\"\"Make a dict out of the parsed, supplied lines\"\"\"\n",
    "    infoMap = defaultdict()\n",
    "    for l in lines.split('\\n'):\n",
    "        cols = l.split('\\t')\n",
    "        readParts = cols[0].split(';')\n",
    "        rid = readParts[0].split('/')[0].split('read')[1]\n",
    "        tid = readParts[0].split('/')[1]\n",
    "        mate1pos = readParts[1].split(':')[1].split('-')[0]\n",
    "        mate2pos = readParts[2].split(':')[1].split('-')[0]\n",
    "\n",
    "        aligned_tid = cols[3]\n",
    "        isPrimary1 = (cols[1] == '99')\n",
    "        isPrimary2 = (cols[1] == '147')\n",
    "        aligned_rpos = cols[3]\n",
    "        isExact = (mate1pos == aligned_rpos or mate2pos == str(int(aligned_rpos)+1))\n",
    "        if rid not in infoMap:\n",
    "            infoMap[rid] = [0,0,0,0] # total count, mate1 is primary, mate2 is primary, correct position\n",
    "        infoMap[rid][0]+=1\n",
    "        if (isPrimary1):\n",
    "            infoMap[rid][1]+=1\n",
    "        elif (isPrimary2):\n",
    "            infoMap[rid][2]+=1\n",
    "        if isExact:\n",
    "            infoMap[rid][3]+=1\n",
    "    return infoMap\n",
    "\n",
    "def para_gatherStats(file, numthreads=9):\n",
    "    numlines = 100\n",
    "\n",
    "    lines = open(file).readlines()\n",
    "\n",
    "    # create the process pool\n",
    "    pool = Pool(processes=numthreads)\n",
    "\n",
    "    # map the list of lines into a list of result dicts\n",
    "    result_list = pool.map(calcLineStat, \n",
    "        (lines[line:line+numlines] for line in range(0,len(lines),numlines) ) )\n",
    "\n",
    "    # reduce the result dicts into a single dict\n",
    "    result = {}\n",
    "    map(result.update, result_list)\n",
    "    return result"
   ]
  },
  {
   "cell_type": "code",
   "execution_count": null,
   "metadata": {},
   "outputs": [],
   "source": [
    "puffMapPara=para_gatherStats('/mnt/scratch2/puff_out.sam')"
   ]
  },
  {
   "cell_type": "code",
   "execution_count": 26,
   "metadata": {
    "collapsed": true
   },
   "outputs": [],
   "source": [
    "kalMap = gatherStats('/mnt/scratch2/kal_out.sam')\n",
    "rapMap = gatherStats('/mnt/scratch2/rapmap_out.sam')\n",
    "puffMap = gatherStats('/mnt/scratch2/puff_out.sam')"
   ]
  },
  {
   "cell_type": "code",
   "execution_count": 27,
   "metadata": {},
   "outputs": [
    {
     "name": "stdout",
     "output_type": "stream",
     "text": [
      "actual # of reads: 33,464,798\n",
      "33431705\n",
      "33462849\n",
      "33464798\n"
     ]
    }
   ],
   "source": [
    "print('actual # of reads: 33,464,798')\n",
    "print(len(puffMap))\n",
    "print(len(rapMap))\n",
    "print(len(kalMap))"
   ]
  },
  {
   "cell_type": "code",
   "execution_count": 15,
   "metadata": {},
   "outputs": [
    {
     "name": "stdout",
     "output_type": "stream",
     "text": [
      "33213471\n",
      "218234\n"
     ]
    }
   ],
   "source": [
    "good_cnt = 0\n",
    "bad_cnt = 0\n",
    "for k,v in readMap.items():\n",
    "    if (v[0] > 10):\n",
    "        bad_cnt+=1\n",
    "        #print('{}:  {},{},{},{}'.format(k, v[0], v[1], v[2], v[3]))\n",
    "    else:\n",
    "        good_cnt+=1\n",
    "print(good_cnt)\n",
    "print(bad_cnt)"
   ]
  },
  {
   "cell_type": "code",
   "execution_count": null,
   "metadata": {
    "collapsed": true
   },
   "outputs": [],
   "source": [
    "def f(x):\n",
    "    return x*x\n",
    "\n",
    "if __name__ == '__main__':\n",
    "    with Pool(5) as p:\n",
    "        print(p.map(f, [1, 2, 3]))"
   ]
  }
 ],
 "metadata": {
  "kernelspec": {
   "display_name": "Python 3",
   "language": "python",
   "name": "python3"
  },
  "language_info": {
   "codemirror_mode": {
    "name": "ipython",
    "version": 3
   },
   "file_extension": ".py",
   "mimetype": "text/x-python",
   "name": "python",
   "nbconvert_exporter": "python",
   "pygments_lexer": "ipython3",
   "version": "3.6.1"
  }
 },
 "nbformat": 4,
 "nbformat_minor": 2
}
